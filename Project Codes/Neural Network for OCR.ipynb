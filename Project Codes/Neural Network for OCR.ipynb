{
 "cells": [
  {
   "cell_type": "code",
   "execution_count": null,
   "metadata": {},
   "outputs": [],
   "source": [
    "import tensorflow as tf\n",
    "import matplotlib.pyplot as plt\n",
    "import numpy as np\n",
    "import os\n",
    "import pickle\n",
    "import tensorflow as tf\n",
    "from keras.models import Sequential\n",
    "from keras.layers import Dense, Conv2D, Flatten, MaxPool2D, Activation, Dropout\n",
    "\n",
    "os.chdir(\"..\\\\..\\\\Final Project\\\\datasets\\\\OCR\")\n",
    "\n",
    "with open('OCRData.pkl', 'rb') as fp :\n",
    "    new_dict = pickle.load(fp)"
   ]
  },
  {
   "cell_type": "code",
   "execution_count": null,
   "metadata": {},
   "outputs": [],
   "source": [
    "X_train = new_dict['X_train']\n",
    "y_train = new_dict['y_train']\n",
    "X_test = new_dict['X_test']\n",
    "y_test = new_dict['y_test']"
   ]
  },
  {
   "cell_type": "code",
   "execution_count": null,
   "metadata": {},
   "outputs": [],
   "source": [
    "X_train = X_train.reshape(X_train.shape[0], 16, 8, 1)\n",
    "X_test = X_test.reshape(X_test.shape[0], 16, 8, 1)"
   ]
  },
  {
   "cell_type": "code",
   "execution_count": null,
   "metadata": {},
   "outputs": [],
   "source": [
    "input_shape = X_train[0].shape"
   ]
  },
  {
   "cell_type": "code",
   "execution_count": null,
   "metadata": {},
   "outputs": [],
   "source": [
    "model = Sequential()\n",
    "model.add(Conv2D(90, kernel_size=(2, 2), activation='relu', input_shape=input_shape))\n",
    "model.add(Conv2D(10, (2, 2), activation='relu'))\n",
    "model.add(MaxPool2D(2, 2))\n",
    "# model.add(Dropout(0.25))\n",
    "\n",
    "model.add(Flatten())\n",
    "model.add(Dense(100, activation = 'relu'))\n",
    "# model.add(Dropout(0.5))\n",
    "model.add(Dense(26, activation = 'softmax'))\n",
    "\n",
    "print(model.summary())\n",
    "print(model.output)\n",
    "model.compile(loss='sparse_categorical_crossentropy', optimizer='adam', metrics='accuracy')\n",
    "print(\"training model.....\")\n",
    "\n",
    "model.fit(X_train, y_train, epochs=1, verbose = 1, validation_data=(X_test, y_test))\n",
    "\n",
    "print(\"training model DONE.....\")\n",
    "model.save('seq_model_new2.model')"
   ]
  },
  {
   "cell_type": "code",
   "execution_count": null,
   "metadata": {},
   "outputs": [],
   "source": [
    "import random\n",
    "random_image = random.randrange(100)\n",
    "\n",
    "new_model = tf.keras.models.load_model('seq_model_new2.model')\n",
    "test = X_train[random_image]\n",
    "test = test.reshape(-1, 16, 8, 1)\n",
    "predict_results = new_model.predict(test)\n",
    "predicts = [np.argmax(predict_results[i])\n",
    "            for i in range(predict_results.shape[0])]\n",
    "print(\"Expected value =\", chr(y_train[random_image]+97))\n",
    "print(\"predicted value =\", chr(predicts[0]+97))\n",
    "test = test.reshape(16, 8)\n",
    "plt.imshow(test)"
   ]
  }
 ],
 "metadata": {
  "kernelspec": {
   "display_name": "Python 3",
   "language": "python",
   "name": "python3"
  },
  "language_info": {
   "codemirror_mode": {
    "name": "ipython",
    "version": 3
   },
   "file_extension": ".py",
   "mimetype": "text/x-python",
   "name": "python",
   "nbconvert_exporter": "python",
   "pygments_lexer": "ipython3",
   "version": "3.8.5"
  }
 },
 "nbformat": 4,
 "nbformat_minor": 4
}
