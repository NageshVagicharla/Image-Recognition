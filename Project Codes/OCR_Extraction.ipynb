{
 "cells": [
  {
   "cell_type": "code",
   "execution_count": null,
   "metadata": {},
   "outputs": [],
   "source": [
    "import numpy as np\n",
    "import pandas as pd\n",
    "import os\n",
    "import matplotlib.pyplot as plt\n",
    "import gzip,shutil\n",
    "\n",
    "\n",
    "path = os.chdir(\"..\\\\..\\\\Final Project\\\\datasets\\\\OCR\")\n",
    "\n",
    "files = os.listdir(path)\n",
    "for file in files:\n",
    "    if file.endswith('gz'):\n",
    "        with gzip.open(file, 'rb') as f_in:\n",
    "            with open(file.split('.')[0], 'wb') as f_out:\n",
    "                shutil.copyfileobj(f_in, f_out)"
   ]
  },
  {
   "cell_type": "code",
   "execution_count": null,
   "metadata": {},
   "outputs": [],
   "source": [
    "with open(\"letter.data\", 'r') as f:\n",
    "    files = f.readlines()\n",
    "    arr = []\n",
    "    for file in files:\n",
    "        data = file.replace('\\t', \",\")\n",
    "        data = data[:-2]\n",
    "        sub_arr = data.split(\",\")\n",
    "        arr.append(sub_arr)\n",
    "    arr = np.array(arr)"
   ]
  },
  {
   "cell_type": "code",
   "execution_count": null,
   "metadata": {},
   "outputs": [],
   "source": [
    "from skimage.io import imsave\n",
    "os.chdir(\"D:\\\\albany\\\\sem 4\\\\593- Practicum\\\\Final Project\\\\datasets\\\\OCR\")\n",
    "\n",
    "d = {}\n",
    "for i in range(len(arr)):\n",
    "    if(arr[i][1] not in d):\n",
    "        d[arr[i][1]] = 1\n",
    "    else:\n",
    "        d[arr[i][1]] += 1\n",
    "        \n",
    "percent_split = 0.8 # Splitting  logic\n",
    "for i in d.keys():\n",
    "        d[i] = int(0.8 * d[i])"
   ]
  },
  {
   "cell_type": "code",
   "execution_count": null,
   "metadata": {},
   "outputs": [],
   "source": [
    "X_train = []\n",
    "X_test = []\n",
    "y_train = []\n",
    "y_test = []\n",
    "\n",
    "for i in range(len(arr)):\n",
    "    char = arr[i][1]\n",
    "    b = [int(j) for j in arr[i][6:]]\n",
    "    b = np.array(b)\n",
    "    b = b.reshape((16, 8)) \n",
    "    \n",
    "    if not os.path.exists('train/'+char+'/'):\n",
    "        os.makedirs('train/'+char+'/')\n",
    "    if not os.path.exists('test/'+char+'/'):\n",
    "        os.makedirs('test/'+char+'/')\n",
    "        \n",
    "    \n",
    "    filenumber = len(os.listdir('train/'+char+'/'))\n",
    "    if(filenumber <= d[char]):\n",
    "        X_train.append(b)\n",
    "        y_train.append(ord(char)-97)\n",
    "        imsave('train/'+char+'/'+'/%05d.png'%(filenumber),b)\n",
    "    else:\n",
    "        X_test.append(b)\n",
    "        y_test.append(ord(char)-97)\n",
    "        filenumber = len(os.listdir('test/'+char+'/'))\n",
    "        imsave('test/'+char+'/'+'/%05d.png'%(filenumber),b)"
   ]
  },
  {
   "cell_type": "code",
   "execution_count": null,
   "metadata": {},
   "outputs": [],
   "source": [
    "X_train = np.array(X_train)\n",
    "y_train = np.array(y_train)\n",
    "X_test = np.array(X_test)\n",
    "y_test = np.array(y_test)\n",
    "\n",
    "temp1 = {'X_train': X_train,\n",
    "         'X_test': X_test,\n",
    "         'y_train': y_train,\n",
    "         'y_test': y_test}"
   ]
  },
  {
   "cell_type": "code",
   "execution_count": null,
   "metadata": {},
   "outputs": [],
   "source": [
    "import pickle\n",
    "import matplotlib.pyplot as plt\n",
    "\n",
    "# DUMPING THE DICTIONARY INTO A PICKLE \n",
    "with open('OCRData.pkl', 'wb') as fp :\n",
    "    pickle.dump(temp1, fp)"
   ]
  }
 ],
 "metadata": {
  "kernelspec": {
   "display_name": "Python 3",
   "language": "python",
   "name": "python3"
  },
  "language_info": {
   "codemirror_mode": {
    "name": "ipython",
    "version": 3
   },
   "file_extension": ".py",
   "mimetype": "text/x-python",
   "name": "python",
   "nbconvert_exporter": "python",
   "pygments_lexer": "ipython3",
   "version": "3.8.5"
  }
 },
 "nbformat": 4,
 "nbformat_minor": 4
}
