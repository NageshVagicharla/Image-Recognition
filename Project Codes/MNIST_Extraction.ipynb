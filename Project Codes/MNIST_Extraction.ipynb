{
 "cells": [
  {
   "cell_type": "code",
   "execution_count": null,
   "metadata": {
    "scrolled": false
   },
   "outputs": [],
   "source": [
    "import os\n",
    "\n",
    "path = os.chdir(\"..\\\\..\\\\Final Project\\\\datasets\\\\MNIST\")"
   ]
  },
  {
   "cell_type": "markdown",
   "metadata": {},
   "source": [
    "## Extracting the downloaded files\n",
    "\n",
    "The downloaded files are in an archive format and needs to be extracted. It can be manually extracted using the GUI or the code segment below can also be used."
   ]
  },
  {
   "cell_type": "code",
   "execution_count": null,
   "metadata": {},
   "outputs": [],
   "source": [
    "import os,gzip,shutil\n",
    "\n",
    "files = os.listdir(path)\n",
    "for file in files:\n",
    "    if file.endswith('gz'):\n",
    "        with gzip.open(file, 'rb') as f_in:\n",
    "            with open(file.split('.')[0], 'wb') as f_out:\n",
    "                shutil.copyfileobj(f_in, f_out)"
   ]
  },
  {
   "cell_type": "code",
   "execution_count": null,
   "metadata": {},
   "outputs": [],
   "source": [
    "import os,codecs,numpy\n",
    "\n",
    "files = os.listdir(path)\n",
    "\n",
    "def get_int(b):\n",
    "    return int(codecs.encode(b, 'hex'), 16)\n",
    "\n",
    "data_dict = {}\n",
    "for file in files:\n",
    "    if file.endswith('ubyte'):\n",
    "        with open (file,'rb') as f:\n",
    "            data = f.read()\n",
    "            type = get_int(data[:4])\n",
    "            length = get_int(data[4:8])\n",
    "            if(type == 2049):\n",
    "                category = 'labels'\n",
    "                parsed = numpy.frombuffer(data, dtype=numpy.uint8, offset=8)\n",
    "                parsed = parsed.reshape(length)\n",
    "            elif (type == 2051):\n",
    "                category = 'images'\n",
    "                num_rows = get_int(data[8:12])\n",
    "                \n",
    "                num_cols = get_int(data[12:16])\n",
    "                parsed = numpy.frombuffer(data,dtype = numpy.uint8, offset = 16)\n",
    "                parsed = parsed.reshape(length,num_rows,num_cols)\n",
    "            \n",
    "            if (length==60000):\n",
    "                set = 'train'\n",
    "            elif (length==10000):\n",
    "                set = 'test'\n",
    "            data_dict[set+'_'+category] = parsed"
   ]
  },
  {
   "cell_type": "code",
   "execution_count": null,
   "metadata": {},
   "outputs": [],
   "source": [
    "import os\n",
    "from skimage.io import imsave\n",
    "\n",
    "folders = ['train','test']\n",
    "\n",
    "for folder in folders:\n",
    "    images = data_dict[folder+'_images']\n",
    "    labels = data_dict[folder+'_labels']\n",
    "    no_of_samples = images.shape[0]\n",
    "    for indx in range(no_of_samples):\n",
    "        image = images[indx]\n",
    "        label = labels[indx]\n",
    "        if not os.path.exists(folder+'/'+str(label)+'/'):\n",
    "            os.makedirs (folder+'/'+str(label)+'/')\n",
    "        filenumber = len(os.listdir(folder+'/'+str(label)+'/'))\n",
    "        imsave(folder+'/'+str(label)+'/%05d.png'%(filenumber),image)"
   ]
  },
  {
   "cell_type": "code",
   "execution_count": null,
   "metadata": {},
   "outputs": [],
   "source": [
    "import pickle\n",
    "\n",
    "with open('MNISTData.pkl', 'wb') as fp :\n",
    "    pickle.dump(data_dict, fp)\n",
    "\n",
    "with open('MNISTData.pkl', 'rb') as fp :\n",
    "    new_dict = pickle.load(fp)"
   ]
  }
 ],
 "metadata": {
  "kernelspec": {
   "display_name": "Python 3",
   "language": "python",
   "name": "python3"
  },
  "language_info": {
   "codemirror_mode": {
    "name": "ipython",
    "version": 3
   },
   "file_extension": ".py",
   "mimetype": "text/x-python",
   "name": "python",
   "nbconvert_exporter": "python",
   "pygments_lexer": "ipython3",
   "version": "3.8.5"
  }
 },
 "nbformat": 4,
 "nbformat_minor": 2
}
